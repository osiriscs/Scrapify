{
 "cells": [
  {
   "cell_type": "markdown",
   "id": "04d0fa8c-7895-486e-a477-9cfc1d8f2638",
   "metadata": {},
   "source": [
    "# 🎧 Scrapify notebook"
   ]
  },
  {
   "cell_type": "markdown",
   "id": "2a327a25-6b28-427d-80ab-ff1b10557978",
   "metadata": {},
   "source": [
    "Spotify generates and stores a lot of material to analyze and fortunately with the [API of Spotify](https://developer.spotify.com/) it's possible to access to data about artists, tracks, playlist, users...etc. \n",
    "\n",
    "This notebook was made with the goal of explain step by step how can be extracted those data."
   ]
  },
  {
   "cell_type": "markdown",
   "id": "faa4d63a-2ff1-4cbe-acb4-6ae8cc6481db",
   "metadata": {},
   "source": [
    "## 📌 Importing libraries"
   ]
  },
  {
   "cell_type": "markdown",
   "id": "8aa69682-ae0d-489a-ad07-6d73a93bea79",
   "metadata": {},
   "source": [
    "We are not going to use Spotipy so it's necesary import these libraries to create a mapping from scratch."
   ]
  },
  {
   "cell_type": "code",
   "execution_count": 1,
   "id": "05f74d4c-3cef-4563-b127-e65674b0f174",
   "metadata": {},
   "outputs": [],
   "source": [
    "import requests \n",
    "import pandas as pd\n",
    "import numpy as np\n",
    "import json\n",
    "import warnings\n",
    "warnings.simplefilter(\"ignore\")"
   ]
  },
  {
   "cell_type": "markdown",
   "id": "c7c7c9db-ce0e-4e74-b272-6823f0bec327",
   "metadata": {},
   "source": [
    "## 📌 Requirements: Adding you credentials"
   ]
  },
  {
   "cell_type": "markdown",
   "id": "5367cd99-ed20-4249-9e54-877837a22835",
   "metadata": {},
   "source": [
    "The first step that is **very, very important** it's get your credentials: Client ID and Secret ID. \n",
    "\n",
    "It's easy, you only need to go to the page of [Spotify for Developer Dashboard](https://developer.spotify.com/dashboard/login), then click to Log in (it doesn't matter if you are a free or premium account). Finally, create a project to see your IDs and don't share them."
   ]
  },
  {
   "cell_type": "markdown",
   "id": "0c84efc0-0b86-4cbd-afd2-63f9d98c5ba3",
   "metadata": {},
   "source": [
    "Spotify implements the **OAuth 2.0 authorization** framework, and OAuth manage four grant types. We are going to use Client Credentials type, so the two things that needed here are the both ID's to request the authorization.  \n",
    "\n",
    "Thus, we send a **POST request to /api/token**, specifying our client ID and Secret ID. The limitation here is that our access token is not refreshed and expires in 3600 seconds."
   ]
  },
  {
   "cell_type": "code",
   "execution_count": 2,
   "id": "e0ea53fa-6bfb-4b45-a0da-70806391677e",
   "metadata": {},
   "outputs": [],
   "source": [
    "def auth_spotify (client_id, client_secret):\n",
    "    URl= 'https://accounts.spotify.com/api/token'\n",
    "\n",
    "    auth_response = requests.post(URl, {\n",
    "        'grant_type': 'client_credentials',\n",
    "        'client_id': client_id,\n",
    "        'client_secret': client_secret,\n",
    "    })\n",
    "    \n",
    "    auth_response= auth_response.json()\n",
    "    access_token= auth_response['access_token']\n",
    "    \n",
    "    return access_token"
   ]
  },
  {
   "cell_type": "code",
   "execution_count": 3,
   "id": "0a78e4df-11af-463b-a209-8f1ad792c594",
   "metadata": {},
   "outputs": [],
   "source": [
    "client_id= 'INSERT HERE YOUR CLIENT ID'\n",
    "client_secret= 'INSERT HERE YOUR SECRET ID'\n",
    "access_token= auth_spotify(client_id, client_secret)"
   ]
  },
  {
   "cell_type": "markdown",
   "id": "8491af71-9905-4f98-8279-57e7ad6c6922",
   "metadata": {},
   "source": [
    "## 📌 Functions to request endpoints"
   ]
  },
  {
   "cell_type": "markdown",
   "id": "a9ce0807-3231-42ee-94e4-62d1ac890b36",
   "metadata": {},
   "source": [
    "It was mentioned before that the API has a serie of endpoints and each one of them has a specific path to make the request with a general URl **/api.spotify.com/v1**. Below is a sample of some of them that were of interest to me."
   ]
  },
  {
   "cell_type": "markdown",
   "id": "692a2603-e086-4247-836a-59a820f8abfa",
   "metadata": {},
   "source": [
    "#### 🔨 Get Playlist Items\n",
    "[Get Playlist Items](https://developer.spotify.com/documentation/web-api/reference/#/operations/get-playlists-tracks) endpoint allows me to know which tracks are in the playlist"
   ]
  },
  {
   "cell_type": "code",
   "execution_count": 4,
   "id": "ab7be454-8c2a-4c00-a17b-708a6aa3b137",
   "metadata": {},
   "outputs": [],
   "source": [
    "def get_playlist_tracks (access_token, playlist_id):\n",
    "    header= {'Authorization': \"Bearer {}\".format(access_token)}\n",
    "    URl_base = 'https://api.spotify.com/v1/'\n",
    "    \n",
    "    playlist = requests.get(URl_base + 'playlists/' + playlist_id + '/tracks', headers=header)\n",
    "    playlist = playlist.json()\n",
    "    return playlist"
   ]
  },
  {
   "cell_type": "markdown",
   "id": "2367602c-02ef-4451-b53e-7b31e9007dbf",
   "metadata": {},
   "source": [
    "#### 🔨 Get Track's Audio Features\n",
    "[Get Track's Audio Features](https://developer.spotify.com/documentation/web-api/reference/#/operations/get-audio-features) endpoint allows me to know the audio feature information for a single track identified by its unique Spotify ID."
   ]
  },
  {
   "cell_type": "code",
   "execution_count": 5,
   "id": "35249bb1-0114-4223-96fe-20f4e3f91c17",
   "metadata": {},
   "outputs": [],
   "source": [
    "def get_track_feature(track_id):\n",
    "    header= {'Authorization': \"Bearer {}\".format(access_token)}\n",
    "    URl_base = 'https://api.spotify.com/v1/'\n",
    " \n",
    "    \n",
    "    track_feature = requests.get(URl_base + 'audio-features/' + track_id, headers=header)\n",
    "    track_feature = track_feature.json()\n",
    "    return track_feature"
   ]
  },
  {
   "cell_type": "markdown",
   "id": "4d659ce9-522f-499d-bd29-ec94cd29515a",
   "metadata": {},
   "source": [
    "#### 🔨 Get Track\n",
    "[Get Track](https://developer.spotify.com/documentation/web-api/reference/#/operations/get-track) endpoint allows me to know general information for a single track identified by its unique Spotify ID."
   ]
  },
  {
   "cell_type": "code",
   "execution_count": 6,
   "id": "a45b9457-984b-433b-be42-5b07407b94a1",
   "metadata": {},
   "outputs": [],
   "source": [
    "def get_unique_track (track_id):\n",
    "    header= {'Authorization': \"Bearer {}\".format(access_token)}\n",
    "    URl_base = 'https://api.spotify.com/v1/'\n",
    "    \n",
    "    track = requests.get(URl_base + 'tracks/' + track_id, headers=header)\n",
    "    track = track.json()\n",
    "    return track"
   ]
  },
  {
   "cell_type": "markdown",
   "id": "214a9931-c2f9-4f74-9484-c48bfc4a685f",
   "metadata": {},
   "source": [
    "#### 🔨 Get Artist\n",
    "[Get Artist](https://developer.spotify.com/documentation/web-api/reference/#/operations/get-an-artist) endpoint allows me to know general  information for a single artist identified by their unique Spotify ID."
   ]
  },
  {
   "cell_type": "code",
   "execution_count": 7,
   "id": "88e52d53-037e-40b5-91d4-4986e18a468f",
   "metadata": {},
   "outputs": [],
   "source": [
    "def get_unique_artist(artist_id):\n",
    "    header= {'Authorization': \"Bearer {}\".format(access_token)}\n",
    "    URl_base = 'https://api.spotify.com/v1/'\n",
    " \n",
    "    \n",
    "    artist_feature = requests.get(URl_base + 'artists/' + artist_id, headers=header)\n",
    "    artist_feature = artist_feature.json()\n",
    "    return artist_feature"
   ]
  },
  {
   "cell_type": "markdown",
   "id": "83fc1223-5ebf-4724-a1af-96d819928a14",
   "metadata": {},
   "source": [
    "## 📌 Integrating request in a DataFrame."
   ]
  },
  {
   "cell_type": "markdown",
   "id": "f374bce4-fa7c-4995-92f4-ee04d42f3d40",
   "metadata": {},
   "source": [
    "Add_playlist is a function to create a playlist dataframe wich uses the Id of the playlist. At the same time, it uses **get_unique_track** function to get the name of eache artists and **get_track_feature** function to get the most important feautures."
   ]
  },
  {
   "cell_type": "code",
   "execution_count": 8,
   "id": "bc048018-2f08-4e54-85e9-04d3f2ea4226",
   "metadata": {},
   "outputs": [],
   "source": [
    "def add_playlist(playlist, df_playlist):\n",
    "    ##artists_= [] \n",
    "    for item in playlist['tracks']['items']:\n",
    "        track_id= item['track']['id']\n",
    "        track_name= item['track']['name']\n",
    "        \n",
    "        track= get_unique_track(track_id)\n",
    "        \n",
    "        artists_= []\n",
    "        for artist in track['artists']:\n",
    "            artists_.append(artist['name'])\n",
    "        \n",
    "        album= track['album']['name']\n",
    "        album_id= track['album']['id']\n",
    "\n",
    "        track_features = get_track_feature(track_id)\n",
    "        \n",
    "        df_playlist = df_playlist.append({'Song_id': track_id, 'Song': track_name, 'Artist': artists_, 'Album': album, 'Album_id': album_id, 'danceability': track_features['danceability'], \n",
    "                        'energy': track_features['energy'], \n",
    "                        'key': track_features['key'],\n",
    "                        'mode': track_features['mode'], \n",
    "                        'instrumentalness': track_features['instrumentalness'], \n",
    "                        'valence': track_features['valence']}, ignore_index=True)\n",
    "            \n",
    "        \n",
    "    return df_playlist"
   ]
  },
  {
   "cell_type": "markdown",
   "id": "3b2d77f6-5373-4a6c-abdb-22a436cc35a9",
   "metadata": {},
   "source": [
    "Add_artists is a function to create an artists dataframe wich uses the Id of the playlist and **get_unique_artists** to acess to its features."
   ]
  },
  {
   "cell_type": "code",
   "execution_count": 9,
   "id": "8dee1ff5-9c29-481c-9bbe-ebb286b5c9ca",
   "metadata": {},
   "outputs": [],
   "source": [
    "def add_artist(playlist, df_artists):\n",
    "    artists_id=[]\n",
    "    \n",
    "    for item in playlist['tracks']['items']:\n",
    "        for artist in item['track']['artists']:\n",
    "            artists_id.append(artist['id'])\n",
    "            \n",
    "    for artist in range (len(artists_id)):\n",
    "        artist= get_unique_artist(artists_id[artist])\n",
    "        \n",
    "        df_artists = df_artists.append({'Artist_id': artist['id'], 'name': artist['name'], 'followers': artist['followers']['total'], 'genres': artist['genres'], 'popularity': artist['popularity']}, ignore_index=True)\n",
    "    \n",
    "    return  df_artists"
   ]
  },
  {
   "cell_type": "markdown",
   "id": "ad2fba20-ef08-4b01-91e5-aa037b1c9040",
   "metadata": {},
   "source": [
    "## 📌 Requesting your endpoints."
   ]
  },
  {
   "cell_type": "markdown",
   "id": "be297492-09b5-4c66-915c-58ecf34cfcda",
   "metadata": {},
   "source": [
    "#### 🔨 Get dataFrame of the playlist"
   ]
  },
  {
   "cell_type": "markdown",
   "id": "4579119e-e6a8-4059-8a94-a7f88e087da9",
   "metadata": {},
   "source": [
    "I go to Spotify and find a playlist of my interest, in this case I use one of my favorites. Click on the **three dots of the playlist, select share, and then copy the link**: https://open.spotify.com/playlist/77e8R7DM5kj6Y34r6krjgf?si=42b2ce68ada24171"
   ]
  },
  {
   "cell_type": "code",
   "execution_count": 10,
   "id": "97885127-e1e5-4eca-9952-f3c50a74582a",
   "metadata": {},
   "outputs": [],
   "source": [
    "playlist_id= '77e8R7DM5kj6Y34r6krjgf?si=04e0f53d600345eb'\n",
    "playlist= get_playlist_tracks (access_token, playlist_id)"
   ]
  },
  {
   "cell_type": "code",
   "execution_count": 11,
   "id": "69bb1514-6b18-40c0-822d-653f0e8186e3",
   "metadata": {},
   "outputs": [
    {
     "data": {
      "text/html": [
       "<div>\n",
       "<style scoped>\n",
       "    .dataframe tbody tr th:only-of-type {\n",
       "        vertical-align: middle;\n",
       "    }\n",
       "\n",
       "    .dataframe tbody tr th {\n",
       "        vertical-align: top;\n",
       "    }\n",
       "\n",
       "    .dataframe thead th {\n",
       "        text-align: right;\n",
       "    }\n",
       "</style>\n",
       "<table border=\"1\" class=\"dataframe\">\n",
       "  <thead>\n",
       "    <tr style=\"text-align: right;\">\n",
       "      <th></th>\n",
       "      <th>Song_id</th>\n",
       "      <th>Song</th>\n",
       "      <th>Artist</th>\n",
       "      <th>Album</th>\n",
       "      <th>Album_id</th>\n",
       "      <th>danceability</th>\n",
       "      <th>energy</th>\n",
       "      <th>key</th>\n",
       "      <th>mode</th>\n",
       "      <th>instrumentalness</th>\n",
       "      <th>valence</th>\n",
       "    </tr>\n",
       "  </thead>\n",
       "  <tbody>\n",
       "  </tbody>\n",
       "</table>\n",
       "</div>"
      ],
      "text/plain": [
       "Empty DataFrame\n",
       "Columns: [Song_id, Song, Artist, Album, Album_id, danceability, energy, key, mode, instrumentalness, valence]\n",
       "Index: []"
      ]
     },
     "execution_count": 11,
     "metadata": {},
     "output_type": "execute_result"
    }
   ],
   "source": [
    "df = pd.DataFrame(columns=['Song_id', 'Song', 'Artist', 'Album', 'Album_id', 'danceability', 'energy', 'key', 'mode', 'instrumentalness', 'valence'])\n",
    "df"
   ]
  },
  {
   "cell_type": "code",
   "execution_count": 12,
   "id": "851dd4da-61d4-456c-8cfb-5c792dfeeda9",
   "metadata": {},
   "outputs": [],
   "source": [
    "df_tracks= add_playlist(playlist, df)"
   ]
  },
  {
   "cell_type": "code",
   "execution_count": 13,
   "id": "e400a926-3dea-4807-b803-e7e3c4406e1b",
   "metadata": {},
   "outputs": [
    {
     "data": {
      "text/html": [
       "<div>\n",
       "<style scoped>\n",
       "    .dataframe tbody tr th:only-of-type {\n",
       "        vertical-align: middle;\n",
       "    }\n",
       "\n",
       "    .dataframe tbody tr th {\n",
       "        vertical-align: top;\n",
       "    }\n",
       "\n",
       "    .dataframe thead th {\n",
       "        text-align: right;\n",
       "    }\n",
       "</style>\n",
       "<table border=\"1\" class=\"dataframe\">\n",
       "  <thead>\n",
       "    <tr style=\"text-align: right;\">\n",
       "      <th></th>\n",
       "      <th>Song_id</th>\n",
       "      <th>Song</th>\n",
       "      <th>Artist</th>\n",
       "      <th>Album</th>\n",
       "      <th>Album_id</th>\n",
       "      <th>danceability</th>\n",
       "      <th>energy</th>\n",
       "      <th>key</th>\n",
       "      <th>mode</th>\n",
       "      <th>instrumentalness</th>\n",
       "      <th>valence</th>\n",
       "    </tr>\n",
       "  </thead>\n",
       "  <tbody>\n",
       "    <tr>\n",
       "      <th>0</th>\n",
       "      <td>6hvczQ05jc1yGlp9zhb95V</td>\n",
       "      <td>Kill This Love</td>\n",
       "      <td>[BLACKPINK]</td>\n",
       "      <td>KILL THIS LOVE</td>\n",
       "      <td>3PNxZ3BELbUXJ1XLktXiHz</td>\n",
       "      <td>0.763</td>\n",
       "      <td>0.835</td>\n",
       "      <td>2</td>\n",
       "      <td>0</td>\n",
       "      <td>0.00221</td>\n",
       "      <td>0.645</td>\n",
       "    </tr>\n",
       "    <tr>\n",
       "      <th>1</th>\n",
       "      <td>4SFknyjLcyTLJFPKD2m96o</td>\n",
       "      <td>How You Like That</td>\n",
       "      <td>[BLACKPINK]</td>\n",
       "      <td>THE ALBUM</td>\n",
       "      <td>71O60S5gIJSIAhdnrDIh3N</td>\n",
       "      <td>0.812</td>\n",
       "      <td>0.761</td>\n",
       "      <td>11</td>\n",
       "      <td>1</td>\n",
       "      <td>0.000135</td>\n",
       "      <td>0.344</td>\n",
       "    </tr>\n",
       "    <tr>\n",
       "      <th>2</th>\n",
       "      <td>1XnpzbOGptRwfJhZgLbmSr</td>\n",
       "      <td>Pretty Savage</td>\n",
       "      <td>[BLACKPINK]</td>\n",
       "      <td>THE ALBUM</td>\n",
       "      <td>71O60S5gIJSIAhdnrDIh3N</td>\n",
       "      <td>0.701</td>\n",
       "      <td>0.556</td>\n",
       "      <td>9</td>\n",
       "      <td>0</td>\n",
       "      <td>0.000122</td>\n",
       "      <td>0.333</td>\n",
       "    </tr>\n",
       "    <tr>\n",
       "      <th>3</th>\n",
       "      <td>13MF2TYuyfITClL1R2ei6e</td>\n",
       "      <td>BOOMBAYAH</td>\n",
       "      <td>[BLACKPINK]</td>\n",
       "      <td>SQUARE ONE</td>\n",
       "      <td>0FOOodYRlj7gzh7q7IjmNZ</td>\n",
       "      <td>0.661</td>\n",
       "      <td>0.836</td>\n",
       "      <td>5</td>\n",
       "      <td>0</td>\n",
       "      <td>0</td>\n",
       "      <td>0.396</td>\n",
       "    </tr>\n",
       "    <tr>\n",
       "      <th>4</th>\n",
       "      <td>4ZxOuNHhpyOj4gv52MtQpT</td>\n",
       "      <td>As If It's Your Last</td>\n",
       "      <td>[BLACKPINK]</td>\n",
       "      <td>As If It's Your Last</td>\n",
       "      <td>7ikmjsvRzDRzxHN0KXSQdv</td>\n",
       "      <td>0.786</td>\n",
       "      <td>0.852</td>\n",
       "      <td>8</td>\n",
       "      <td>1</td>\n",
       "      <td>0</td>\n",
       "      <td>0.455</td>\n",
       "    </tr>\n",
       "  </tbody>\n",
       "</table>\n",
       "</div>"
      ],
      "text/plain": [
       "                  Song_id                  Song       Artist  \\\n",
       "0  6hvczQ05jc1yGlp9zhb95V        Kill This Love  [BLACKPINK]   \n",
       "1  4SFknyjLcyTLJFPKD2m96o     How You Like That  [BLACKPINK]   \n",
       "2  1XnpzbOGptRwfJhZgLbmSr         Pretty Savage  [BLACKPINK]   \n",
       "3  13MF2TYuyfITClL1R2ei6e             BOOMBAYAH  [BLACKPINK]   \n",
       "4  4ZxOuNHhpyOj4gv52MtQpT  As If It's Your Last  [BLACKPINK]   \n",
       "\n",
       "                  Album                Album_id danceability energy key mode  \\\n",
       "0        KILL THIS LOVE  3PNxZ3BELbUXJ1XLktXiHz        0.763  0.835   2    0   \n",
       "1             THE ALBUM  71O60S5gIJSIAhdnrDIh3N        0.812  0.761  11    1   \n",
       "2             THE ALBUM  71O60S5gIJSIAhdnrDIh3N        0.701  0.556   9    0   \n",
       "3            SQUARE ONE  0FOOodYRlj7gzh7q7IjmNZ        0.661  0.836   5    0   \n",
       "4  As If It's Your Last  7ikmjsvRzDRzxHN0KXSQdv        0.786  0.852   8    1   \n",
       "\n",
       "  instrumentalness valence  \n",
       "0          0.00221   0.645  \n",
       "1         0.000135   0.344  \n",
       "2         0.000122   0.333  \n",
       "3                0   0.396  \n",
       "4                0   0.455  "
      ]
     },
     "execution_count": 13,
     "metadata": {},
     "output_type": "execute_result"
    }
   ],
   "source": [
    "df_tracks.head()"
   ]
  },
  {
   "cell_type": "code",
   "execution_count": 14,
   "id": "bf046faf-421b-4c72-8741-3e1aab353806",
   "metadata": {},
   "outputs": [],
   "source": [
    "df_tracks.to_csv(\"playlist_track.csv\", index=False) ##Generates a csv file"
   ]
  },
  {
   "cell_type": "markdown",
   "id": "140f70f4-abbe-42b0-b596-e384ab0e9169",
   "metadata": {},
   "source": [
    "#### 🔨 Get dataFrame of artists"
   ]
  },
  {
   "cell_type": "code",
   "execution_count": 15,
   "id": "c63276b9-07c4-4bf0-b72b-0377bc110c0c",
   "metadata": {},
   "outputs": [
    {
     "data": {
      "text/html": [
       "<div>\n",
       "<style scoped>\n",
       "    .dataframe tbody tr th:only-of-type {\n",
       "        vertical-align: middle;\n",
       "    }\n",
       "\n",
       "    .dataframe tbody tr th {\n",
       "        vertical-align: top;\n",
       "    }\n",
       "\n",
       "    .dataframe thead th {\n",
       "        text-align: right;\n",
       "    }\n",
       "</style>\n",
       "<table border=\"1\" class=\"dataframe\">\n",
       "  <thead>\n",
       "    <tr style=\"text-align: right;\">\n",
       "      <th></th>\n",
       "      <th>Artist_id</th>\n",
       "      <th>name</th>\n",
       "      <th>followers</th>\n",
       "      <th>genres</th>\n",
       "      <th>popularity</th>\n",
       "    </tr>\n",
       "  </thead>\n",
       "  <tbody>\n",
       "  </tbody>\n",
       "</table>\n",
       "</div>"
      ],
      "text/plain": [
       "Empty DataFrame\n",
       "Columns: [Artist_id, name, followers, genres, popularity]\n",
       "Index: []"
      ]
     },
     "execution_count": 15,
     "metadata": {},
     "output_type": "execute_result"
    }
   ],
   "source": [
    "df_artists = pd.DataFrame(columns=['Artist_id', 'name', 'followers', 'genres', 'popularity'])\n",
    "df_artists"
   ]
  },
  {
   "cell_type": "code",
   "execution_count": 16,
   "id": "2b2f9da7-4427-408f-9c09-b79352a9ec0a",
   "metadata": {},
   "outputs": [],
   "source": [
    "df_artists= add_artist(playlist, df_artists)"
   ]
  },
  {
   "cell_type": "markdown",
   "id": "9e22a017-e185-4f61-b71c-ccbbaff9582a",
   "metadata": {},
   "source": [
    "It is totally **normal to have repeated artists** because in a playlist there **can be different songs by the same artist**, I have decided not to alter the frame because that can allow us to make a count of artists in a future analysis."
   ]
  },
  {
   "cell_type": "code",
   "execution_count": 17,
   "id": "ea29a754-d009-4076-bfca-481af57febeb",
   "metadata": {},
   "outputs": [
    {
     "data": {
      "text/html": [
       "<div>\n",
       "<style scoped>\n",
       "    .dataframe tbody tr th:only-of-type {\n",
       "        vertical-align: middle;\n",
       "    }\n",
       "\n",
       "    .dataframe tbody tr th {\n",
       "        vertical-align: top;\n",
       "    }\n",
       "\n",
       "    .dataframe thead th {\n",
       "        text-align: right;\n",
       "    }\n",
       "</style>\n",
       "<table border=\"1\" class=\"dataframe\">\n",
       "  <thead>\n",
       "    <tr style=\"text-align: right;\">\n",
       "      <th></th>\n",
       "      <th>Artist_id</th>\n",
       "      <th>name</th>\n",
       "      <th>followers</th>\n",
       "      <th>genres</th>\n",
       "      <th>popularity</th>\n",
       "    </tr>\n",
       "  </thead>\n",
       "  <tbody>\n",
       "    <tr>\n",
       "      <th>0</th>\n",
       "      <td>41MozSoPIsD1dJM0CLPjZF</td>\n",
       "      <td>BLACKPINK</td>\n",
       "      <td>31847764</td>\n",
       "      <td>[k-pop, k-pop girl group]</td>\n",
       "      <td>81</td>\n",
       "    </tr>\n",
       "    <tr>\n",
       "      <th>1</th>\n",
       "      <td>41MozSoPIsD1dJM0CLPjZF</td>\n",
       "      <td>BLACKPINK</td>\n",
       "      <td>31847764</td>\n",
       "      <td>[k-pop, k-pop girl group]</td>\n",
       "      <td>81</td>\n",
       "    </tr>\n",
       "    <tr>\n",
       "      <th>2</th>\n",
       "      <td>41MozSoPIsD1dJM0CLPjZF</td>\n",
       "      <td>BLACKPINK</td>\n",
       "      <td>31847764</td>\n",
       "      <td>[k-pop, k-pop girl group]</td>\n",
       "      <td>81</td>\n",
       "    </tr>\n",
       "    <tr>\n",
       "      <th>3</th>\n",
       "      <td>41MozSoPIsD1dJM0CLPjZF</td>\n",
       "      <td>BLACKPINK</td>\n",
       "      <td>31847764</td>\n",
       "      <td>[k-pop, k-pop girl group]</td>\n",
       "      <td>81</td>\n",
       "    </tr>\n",
       "    <tr>\n",
       "      <th>4</th>\n",
       "      <td>41MozSoPIsD1dJM0CLPjZF</td>\n",
       "      <td>BLACKPINK</td>\n",
       "      <td>31847764</td>\n",
       "      <td>[k-pop, k-pop girl group]</td>\n",
       "      <td>81</td>\n",
       "    </tr>\n",
       "  </tbody>\n",
       "</table>\n",
       "</div>"
      ],
      "text/plain": [
       "                Artist_id       name followers                     genres  \\\n",
       "0  41MozSoPIsD1dJM0CLPjZF  BLACKPINK  31847764  [k-pop, k-pop girl group]   \n",
       "1  41MozSoPIsD1dJM0CLPjZF  BLACKPINK  31847764  [k-pop, k-pop girl group]   \n",
       "2  41MozSoPIsD1dJM0CLPjZF  BLACKPINK  31847764  [k-pop, k-pop girl group]   \n",
       "3  41MozSoPIsD1dJM0CLPjZF  BLACKPINK  31847764  [k-pop, k-pop girl group]   \n",
       "4  41MozSoPIsD1dJM0CLPjZF  BLACKPINK  31847764  [k-pop, k-pop girl group]   \n",
       "\n",
       "  popularity  \n",
       "0         81  \n",
       "1         81  \n",
       "2         81  \n",
       "3         81  \n",
       "4         81  "
      ]
     },
     "execution_count": 17,
     "metadata": {},
     "output_type": "execute_result"
    }
   ],
   "source": [
    "df_artists.head()"
   ]
  },
  {
   "cell_type": "code",
   "execution_count": 18,
   "id": "578994ae-086d-4035-b2b1-5ca01346ca89",
   "metadata": {},
   "outputs": [],
   "source": [
    "df_artists.to_csv(\"artists_features.csv\", index=False) #Generates a csv file"
   ]
  },
  {
   "cell_type": "markdown",
   "id": "d6b02578-16b7-4865-b05b-23e9fff13088",
   "metadata": {},
   "source": [
    "## 📂 References:\n",
    "- https://developer.spotify.com/"
   ]
  }
 ],
 "metadata": {
  "kernelspec": {
   "display_name": "Python 3 (ipykernel)",
   "language": "python",
   "name": "python3"
  },
  "language_info": {
   "codemirror_mode": {
    "name": "ipython",
    "version": 3
   },
   "file_extension": ".py",
   "mimetype": "text/x-python",
   "name": "python",
   "nbconvert_exporter": "python",
   "pygments_lexer": "ipython3",
   "version": "3.9.12"
  }
 },
 "nbformat": 4,
 "nbformat_minor": 5
}
